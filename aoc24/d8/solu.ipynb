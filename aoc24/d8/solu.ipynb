{
 "cells": [
  {
   "cell_type": "code",
   "execution_count": 68,
   "metadata": {},
   "outputs": [
    {
     "data": {
      "text/plain": [
       "array([[3, 0, 3, 7, 3],\n",
       "       [2, 5, 5, 1, 2],\n",
       "       [6, 5, 3, 3, 2],\n",
       "       [3, 3, 5, 4, 9],\n",
       "       [3, 5, 3, 9, 0]])"
      ]
     },
     "execution_count": 68,
     "metadata": {},
     "output_type": "execute_result"
    }
   ],
   "source": [
    "import numpy as np\n",
    "input = \"\"\"30373\n",
    "25512\n",
    "65332\n",
    "33549\n",
    "35390\"\"\"\n",
    "\n",
    "input = input.splitlines()\n",
    "\n",
    "x = np.array([list(map(int,x)) for x in input]); x"
   ]
  },
  {
   "cell_type": "code",
   "execution_count": 123,
   "metadata": {},
   "outputs": [
    {
     "data": {
      "text/plain": [
       "array([[4, 2, 2, ..., 1, 2, 1],\n",
       "       [3, 0, 1, ..., 1, 3, 4],\n",
       "       [4, 1, 0, ..., 3, 4, 3],\n",
       "       ...,\n",
       "       [3, 3, 2, ..., 2, 3, 1],\n",
       "       [1, 1, 0, ..., 1, 3, 1],\n",
       "       [2, 3, 1, ..., 1, 1, 4]])"
      ]
     },
     "execution_count": 123,
     "metadata": {},
     "output_type": "execute_result"
    }
   ],
   "source": [
    "import numpy as np\n",
    "input = open(\"input.txt\", \"r\").read()\n",
    "input = input.splitlines()\n",
    "\n",
    "x = np.array([list(map(int,x)) for x in input]); x"
   ]
  },
  {
   "cell_type": "code",
   "execution_count": 3,
   "metadata": {},
   "outputs": [
    {
     "data": {
      "text/plain": [
       "(5, 5)"
      ]
     },
     "execution_count": 3,
     "metadata": {},
     "output_type": "execute_result"
    }
   ],
   "source": [
    "len(x), len(x[0])"
   ]
  },
  {
   "cell_type": "code",
   "execution_count": 26,
   "metadata": {},
   "outputs": [
    {
     "data": {
      "text/plain": [
       "[[3, 0, 3, 7, 3]]"
      ]
     },
     "execution_count": 26,
     "metadata": {},
     "output_type": "execute_result"
    }
   ],
   "source": [
    "x[:1]"
   ]
  },
  {
   "cell_type": "code",
   "execution_count": 57,
   "metadata": {},
   "outputs": [],
   "source": [
    "res = 0\n",
    "M,N = len(x), len(x[0]), \n",
    "for r in range(1, M-1):\n",
    "    for c in range(1, N-1):\n",
    "        # left\n",
    "        curr = x[r][c]\n",
    "        l = sorted(x[r][:c], reverse=True)\n",
    "        if curr > l[0]:\n",
    "            res += 1\n",
    "            continue\n",
    "        \n",
    "        # right\n",
    "        curr = x[r][c]\n",
    "        ri = sorted(x[r][c+1:], reverse=True)\n",
    "        if curr > ri[0]:\n",
    "            res += 1\n",
    "            continue\n",
    "\n",
    "        # up\n",
    "        curr = x[r][c]\n",
    "        u = sorted(x[:,c][:r], reverse=True)\n",
    "        if curr > u[0]:\n",
    "            res += 1\n",
    "            continue\n",
    "\n",
    "        # down\n",
    "        curr = x[r][c]\n",
    "        d = sorted(x[:,c][r+1:], reverse=True)\n",
    "        if curr > d[0]:\n",
    "            res += 1\n",
    "            continue"
   ]
  },
  {
   "cell_type": "code",
   "execution_count": 126,
   "metadata": {},
   "outputs": [
    {
     "data": {
      "text/plain": [
       "595080"
      ]
     },
     "execution_count": 126,
     "metadata": {},
     "output_type": "execute_result"
    }
   ],
   "source": [
    "res = 0\n",
    "M,N = len(x), len(x[0])\n",
    "\n",
    "def f(x, s):\n",
    "    i = 0\n",
    "    while i < len(x) and curr > x[i]: i+=1\n",
    "    s *= len(x[:i+1])\n",
    "    return s\n",
    "for r in range(1, M-1):\n",
    "    for c in range(1, N-1):\n",
    "        s = 1\n",
    "        curr = x[r][c]\n",
    "\n",
    "        # left\n",
    "        xx = x[r][:c][::-1]\n",
    "        s = f(xx, s)\n",
    "        \n",
    "        # right\n",
    "        xx = x[r][c+1:]\n",
    "        s = f(xx, s)\n",
    "\n",
    "        # up\n",
    "        xx = x[:,c][:r][::-1]\n",
    "        s = f(xx, s)\n",
    "\n",
    "        # downs\n",
    "        xx = x[:,c][r+1:]\n",
    "        s = f(xx, s)\n",
    "\n",
    "        if s > res: res = s\n",
    "res"
   ]
  },
  {
   "cell_type": "code",
   "execution_count": 84,
   "metadata": {},
   "outputs": [
    {
     "data": {
      "text/plain": [
       "5"
      ]
     },
     "execution_count": 84,
     "metadata": {},
     "output_type": "execute_result"
    }
   ],
   "source": [
    "res"
   ]
  },
  {
   "cell_type": "code",
   "execution_count": 121,
   "metadata": {},
   "outputs": [
    {
     "name": "stdout",
     "output_type": "stream",
     "text": [
      "[4 3 2 1]\n"
     ]
    },
    {
     "data": {
      "text/plain": [
       "array([4, 3, 2, 1])"
      ]
     },
     "execution_count": 121,
     "metadata": {},
     "output_type": "execute_result"
    }
   ],
   "source": [
    "print(np.flip(np.array([1,2,3,4])))\n",
    "\n",
    "np.array([1,2,3,4])[::-1]"
   ]
  },
  {
   "cell_type": "code",
   "execution_count": 58,
   "metadata": {},
   "outputs": [
    {
     "data": {
      "text/plain": [
       "1543"
      ]
     },
     "execution_count": 58,
     "metadata": {},
     "output_type": "execute_result"
    }
   ],
   "source": [
    "res + 2*M + 2*N - 4"
   ]
  }
 ],
 "metadata": {
  "kernelspec": {
   "display_name": "py3",
   "language": "python",
   "name": "python3"
  },
  "language_info": {
   "codemirror_mode": {
    "name": "ipython",
    "version": 3
   },
   "file_extension": ".py",
   "mimetype": "text/x-python",
   "name": "python",
   "nbconvert_exporter": "python",
   "pygments_lexer": "ipython3",
   "version": "3.9.6"
  }
 },
 "nbformat": 4,
 "nbformat_minor": 2
}
