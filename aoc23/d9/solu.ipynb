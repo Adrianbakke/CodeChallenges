{
 "cells": [
  {
   "cell_type": "code",
   "execution_count": 73,
   "metadata": {},
   "outputs": [
    {
     "data": {
      "text/plain": [
       "[['R', '4'],\n",
       " ['U', '4'],\n",
       " ['L', '3'],\n",
       " ['D', '1'],\n",
       " ['R', '4'],\n",
       " ['D', '1'],\n",
       " ['L', '5'],\n",
       " ['R', '2']]"
      ]
     },
     "execution_count": 73,
     "metadata": {},
     "output_type": "execute_result"
    }
   ],
   "source": [
    "input = \"\"\"R 4\n",
    "U 4\n",
    "L 3\n",
    "D 1\n",
    "R 4\n",
    "D 1\n",
    "L 5\n",
    "R 2\"\"\".splitlines()\n",
    "X = [x.split(\" \") for x in input]; X\n"
   ]
  },
  {
   "cell_type": "code",
   "execution_count": 124,
   "metadata": {},
   "outputs": [],
   "source": [
    "input = open(\"input.txt\").read().splitlines()\n",
    "X = [x.split(\" \") for x in input]\n"
   ]
  },
  {
   "cell_type": "code",
   "execution_count": 113,
   "metadata": {},
   "outputs": [],
   "source": [
    "mr = lambda x,b: ((x[0]+b,x[1]),0)\n",
    "ml = lambda x,b: ((x[0]-b,x[1]),0)\n",
    "mu = lambda x,b: ((x[0],x[1]+b),0)\n",
    "md = lambda x,b: ((x[0],x[1]-b),0)"
   ]
  },
  {
   "cell_type": "code",
   "execution_count": 117,
   "metadata": {},
   "outputs": [],
   "source": [
    "def m_tail(H,T):\n",
    "    hx,hy = H\n",
    "    tx,ty = T\n",
    "    br,bl,bu,bd = 1,1,1,1\n",
    "    if hx-tx > 1:\n",
    "        T,br = mr(T,br)\n",
    "        if hy-ty >= 1:\n",
    "            T,bu = mu(T,bu)\n",
    "        elif hy-ty <= -1:\n",
    "            T,bd = md(T,bd)\n",
    "    elif hx-tx < -1:\n",
    "        T,bl = ml(T,bl)\n",
    "        if hy-ty >= 1:\n",
    "            T,bu = mu(T,bu)\n",
    "        elif hy-ty <= -1:\n",
    "            T,bd = md(T,bd)\n",
    "    if hy-ty > 1:\n",
    "        T,bu = mu(T,bu)\n",
    "        if hx-tx >= 1:\n",
    "            T,br = mr(T,br)\n",
    "        elif hx-tx <= -1:\n",
    "            T,bl = ml(T,bl)\n",
    "    elif hy-ty < -1:\n",
    "        T,bd = md(T,bd)\n",
    "        if hx-tx >= 1:\n",
    "            T,br = mr(T,br)\n",
    "        elif hx-tx <= -1:\n",
    "            T,bl = ml(T,bl)\n",
    "    return T"
   ]
  },
  {
   "cell_type": "code",
   "execution_count": 120,
   "metadata": {},
   "outputs": [],
   "source": [
    "T = [(0,0) for _ in range(10)]\n",
    "\n",
    "res = set()\n",
    "for d,rep in X:\n",
    "    for r in range(int(rep)):\n",
    "        if d == \"R\":\n",
    "            T[0],_ = mr(T[0],1)\n",
    "            for i in range(len(T)-1): \n",
    "                T[i+1] = m_tail(T[i],T[i+1])\n",
    "        elif d == \"L\":\n",
    "            T[0],_ = ml(T[0],1)\n",
    "            for i in range(len(T)-1): \n",
    "                T[i+1] = m_tail(T[i],T[i+1])\n",
    "        elif d == \"U\":\n",
    "            T[0],_ = mu(T[0],1)\n",
    "            for i in range(len(T)-1): \n",
    "                T[i+1] = m_tail(T[i],T[i+1])\n",
    "        elif d == \"D\":\n",
    "            T[0],_ = md(T[0],1)\n",
    "            for i in range(len(T)-1):\n",
    "                T[i+1] = m_tail(T[i],T[i+1])\n",
    "        res.add(T[-1])\n",
    "len(res)"
   ]
  },
  {
   "cell_type": "code",
   "execution_count": 123,
   "metadata": {},
   "outputs": [
    {
     "data": {
      "text/plain": [
       "2665"
      ]
     },
     "execution_count": 123,
     "metadata": {},
     "output_type": "execute_result"
    }
   ],
   "source": [
    "len(res)"
   ]
  },
  {
   "cell_type": "code",
   "execution_count": 108,
   "metadata": {},
   "outputs": [
    {
     "name": "stdout",
     "output_type": "stream",
     "text": [
      "{0: (1, 0), 1: (0, 0), 2: (0, 0), 3: (0, 0), 4: (0, 0), 5: (0, 0), 6: (0, 0), 7: (0, 0), 8: (0, 0), 9: (0, 0)}\n",
      "{0: (2, 0), 1: (0, 0), 2: (0, 0), 3: (0, 0), 4: (0, 0), 5: (0, 0), 6: (0, 0), 7: (0, 0), 8: (0, 0), 9: (0, 0)}\n",
      "{0: (3, 0), 1: (0, 0), 2: (0, 0), 3: (0, 0), 4: (0, 0), 5: (0, 0), 6: (0, 0), 7: (0, 0), 8: (0, 0), 9: (0, 0)}\n",
      "{0: (4, 0), 1: (0, 0), 2: (0, 0), 3: (0, 0), 4: (0, 0), 5: (0, 0), 6: (0, 0), 7: (0, 0), 8: (0, 0), 9: (0, 0)}\n",
      "{0: (4, 1), 1: (0, 0), 2: (0, 0), 3: (0, 0), 4: (0, 0), 5: (0, 0), 6: (0, 0), 7: (0, 0), 8: (0, 0), 9: (0, 0)}\n",
      "{0: (4, 2), 1: (1, 1), 2: (0, 0), 3: (0, 0), 4: (0, 0), 5: (0, 0), 6: (0, 0), 7: (0, 0), 8: (0, 0), 9: (0, 0)}\n",
      "{0: (4, 3), 1: (2, 2), 2: (1, 1), 3: (0, 0), 4: (0, 0), 5: (0, 0), 6: (0, 0), 7: (0, 0), 8: (0, 0), 9: (0, 0)}\n",
      "{0: (4, 4), 1: (3, 3), 2: (2, 2), 3: (1, 1), 4: (0, 0), 5: (0, 0), 6: (0, 0), 7: (0, 0), 8: (0, 0), 9: (0, 0)}\n",
      "{0: (3, 4), 1: (3, 3), 2: (2, 2), 3: (1, 1), 4: (0, 0), 5: (0, 0), 6: (0, 0), 7: (0, 0), 8: (0, 0), 9: (0, 0)}\n",
      "{0: (2, 4), 1: (3, 3), 2: (2, 2), 3: (1, 1), 4: (0, 0), 5: (0, 0), 6: (0, 0), 7: (0, 0), 8: (0, 0), 9: (0, 0)}\n",
      "{0: (1, 4), 1: (3, 3), 2: (2, 2), 3: (1, 1), 4: (0, 0), 5: (0, 0), 6: (0, 0), 7: (0, 0), 8: (0, 0), 9: (0, 0)}\n",
      "{0: (1, 3), 1: (3, 3), 2: (2, 2), 3: (1, 1), 4: (0, 0), 5: (0, 0), 6: (0, 0), 7: (0, 0), 8: (0, 0), 9: (0, 0)}\n",
      "{0: (2, 3), 1: (3, 3), 2: (2, 2), 3: (1, 1), 4: (0, 0), 5: (0, 0), 6: (0, 0), 7: (0, 0), 8: (0, 0), 9: (0, 0)}\n",
      "{0: (3, 3), 1: (3, 3), 2: (2, 2), 3: (1, 1), 4: (0, 0), 5: (0, 0), 6: (0, 0), 7: (0, 0), 8: (0, 0), 9: (0, 0)}\n",
      "{0: (4, 3), 1: (3, 3), 2: (2, 2), 3: (1, 1), 4: (0, 0), 5: (0, 0), 6: (0, 0), 7: (0, 0), 8: (0, 0), 9: (0, 0)}\n",
      "{0: (5, 3), 1: (3, 3), 2: (2, 2), 3: (1, 1), 4: (0, 0), 5: (0, 0), 6: (0, 0), 7: (0, 0), 8: (0, 0), 9: (0, 0)}\n",
      "{0: (5, 2), 1: (3, 3), 2: (2, 2), 3: (1, 1), 4: (0, 0), 5: (0, 0), 6: (0, 0), 7: (0, 0), 8: (0, 0), 9: (0, 0)}\n",
      "{0: (4, 2), 1: (3, 3), 2: (2, 2), 3: (1, 1), 4: (0, 0), 5: (0, 0), 6: (0, 0), 7: (0, 0), 8: (0, 0), 9: (0, 0)}\n",
      "{0: (3, 2), 1: (3, 3), 2: (2, 2), 3: (1, 1), 4: (0, 0), 5: (0, 0), 6: (0, 0), 7: (0, 0), 8: (0, 0), 9: (0, 0)}\n",
      "{0: (2, 2), 1: (3, 3), 2: (2, 2), 3: (1, 1), 4: (0, 0), 5: (0, 0), 6: (0, 0), 7: (0, 0), 8: (0, 0), 9: (0, 0)}\n",
      "{0: (1, 2), 1: (3, 3), 2: (2, 2), 3: (1, 1), 4: (0, 0), 5: (0, 0), 6: (0, 0), 7: (0, 0), 8: (0, 0), 9: (0, 0)}\n",
      "{0: (0, 2), 1: (3, 3), 2: (2, 2), 3: (1, 1), 4: (0, 0), 5: (0, 0), 6: (0, 0), 7: (0, 0), 8: (0, 0), 9: (0, 0)}\n",
      "{0: (1, 2), 1: (3, 3), 2: (2, 2), 3: (1, 1), 4: (0, 0), 5: (0, 0), 6: (0, 0), 7: (0, 0), 8: (0, 0), 9: (0, 0)}\n",
      "{0: (2, 2), 1: (3, 3), 2: (2, 2), 3: (1, 1), 4: (0, 0), 5: (0, 0), 6: (0, 0), 7: (0, 0), 8: (0, 0), 9: (0, 0)}\n"
     ]
    }
   ],
   "source": [
    "for r in res1:\n",
    "    print({i:rr for i,rr in enumerate(r)})"
   ]
  },
  {
   "cell_type": "code",
   "execution_count": null,
   "metadata": {},
   "outputs": [],
   "source": []
  },
  {
   "cell_type": "code",
   "execution_count": 69,
   "metadata": {},
   "outputs": [
    {
     "data": {
      "text/plain": [
       "[(2, 2),\n",
       " (1, 2),\n",
       " (2, 2),\n",
       " (3, 2),\n",
       " (2, 2),\n",
       " (2, 2),\n",
       " (2, 2),\n",
       " (2, 2),\n",
       " (2, 2),\n",
       " (2, 2)]"
      ]
     },
     "execution_count": 69,
     "metadata": {},
     "output_type": "execute_result"
    }
   ],
   "source": [
    "T"
   ]
  },
  {
   "cell_type": "code",
   "execution_count": 54,
   "metadata": {},
   "outputs": [
    {
     "data": {
      "text/plain": [
       "2394"
      ]
     },
     "execution_count": 54,
     "metadata": {},
     "output_type": "execute_result"
    }
   ],
   "source": [
    "len(res)"
   ]
  },
  {
   "cell_type": "code",
   "execution_count": 49,
   "metadata": {},
   "outputs": [
    {
     "data": {
      "text/plain": [
       "{(0, 0)}"
      ]
     },
     "execution_count": 49,
     "metadata": {},
     "output_type": "execute_result"
    }
   ],
   "source": [
    "res"
   ]
  },
  {
   "cell_type": "code",
   "execution_count": 45,
   "metadata": {},
   "outputs": [
    {
     "data": {
      "text/plain": [
       "{(0, 0)}"
      ]
     },
     "execution_count": 45,
     "metadata": {},
     "output_type": "execute_result"
    }
   ],
   "source": []
  },
  {
   "cell_type": "code",
   "execution_count": 28,
   "metadata": {},
   "outputs": [
    {
     "name": "stdout",
     "output_type": "stream",
     "text": [
      "2 1\n"
     ]
    },
    {
     "data": {
      "text/plain": [
       "(1, 1)"
      ]
     },
     "execution_count": 28,
     "metadata": {},
     "output_type": "execute_result"
    }
   ],
   "source": [
    "H = (2,1)\n",
    "T = (0,0)\n",
    "m_tail(H,T)"
   ]
  },
  {
   "cell_type": "code",
   "execution_count": null,
   "metadata": {},
   "outputs": [],
   "source": []
  }
 ],
 "metadata": {
  "kernelspec": {
   "display_name": "py3",
   "language": "python",
   "name": "python3"
  },
  "language_info": {
   "codemirror_mode": {
    "name": "ipython",
    "version": 3
   },
   "file_extension": ".py",
   "mimetype": "text/x-python",
   "name": "python",
   "nbconvert_exporter": "python",
   "pygments_lexer": "ipython3",
   "version": "3.9.6"
  }
 },
 "nbformat": 4,
 "nbformat_minor": 2
}
