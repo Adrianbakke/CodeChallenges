{
 "cells": [
  {
   "cell_type": "code",
   "execution_count": 4,
   "metadata": {},
   "outputs": [],
   "source": [
    "input = \"\"\"noop\n",
    "addx 3\n",
    "addx -5\"\"\"\n",
    "X = [x.split(\" \") for x in input.splitlines()]"
   ]
  },
  {
   "cell_type": "code",
   "execution_count": 3,
   "metadata": {},
   "outputs": [],
   "source": [
    "input = open(\"input.txt\").read()\n",
    "X = [x.split(\" \") for x in input.splitlines()]"
   ]
  },
  {
   "cell_type": "code",
   "execution_count": 5,
   "metadata": {},
   "outputs": [],
   "source": [
    "pos = 1\n",
    "cyc = 0\n",
    "res = list()\n",
    "row = [\".\" for _ in range(40)]\n",
    "for x in X:\n",
    "    if len(x) == 1:\n",
    "        row[cyc%40] = \"#\" if abs(pos-cyc%40)<=1 else \".\"\n",
    "        cyc += 1\n",
    "        if cyc in [40,80,120,160,200,240]:\n",
    "            res.append(row)\n",
    "            row = [\".\" for _ in range(40)]\n",
    "    else:\n",
    "        row[cyc%40] = \"#\" if abs(pos-cyc%40)<=1 else \".\"\n",
    "        cyc += 1  \n",
    "        if cyc in [40,80,120,160,200,240]:\n",
    "            res.append(row)\n",
    "            row = [\".\" for _ in range(40)]\n",
    "\n",
    "        row[cyc%40] = \"#\" if abs(pos-cyc%40)<=1 else \".\"\n",
    "        cyc += 1  \n",
    "        if cyc in [40,80,120,160,200,240]:\n",
    "            res.append(row)\n",
    "            row = [\".\" for _ in range(40)]\n",
    "        pos += int(x[1])\n"
   ]
  },
  {
   "cell_type": "code",
   "execution_count": 6,
   "metadata": {},
   "outputs": [
    {
     "name": "stdout",
     "output_type": "stream",
     "text": [
      "['#', '#', '#', '#', '.', '#', '#', '#', '.', '.', '.', '#', '#', '.', '.', '#', '#', '#', '.', '.', '#', '.', '.', '#', '.', '#', '#', '#', '#', '.', '.', '#', '#', '.', '.', '#', '.', '.', '#', '.']\n",
      "['#', '.', '.', '.', '.', '#', '.', '.', '#', '.', '#', '.', '.', '#', '.', '#', '.', '.', '#', '.', '#', '.', '.', '#', '.', '#', '.', '.', '.', '.', '#', '.', '.', '#', '.', '#', '.', '.', '#', '.']\n",
      "['#', '#', '#', '.', '.', '#', '.', '.', '#', '.', '#', '.', '.', '.', '.', '#', '.', '.', '#', '.', '#', '#', '#', '#', '.', '#', '#', '#', '.', '.', '#', '.', '.', '.', '.', '#', '#', '#', '#', '.']\n",
      "['#', '.', '.', '.', '.', '#', '#', '#', '.', '.', '#', '.', '#', '#', '.', '#', '#', '#', '.', '.', '#', '.', '.', '#', '.', '#', '.', '.', '.', '.', '#', '.', '#', '#', '.', '#', '.', '.', '#', '.']\n",
      "['#', '.', '.', '.', '.', '#', '.', '.', '.', '.', '#', '.', '.', '#', '.', '#', '.', '.', '.', '.', '#', '.', '.', '#', '.', '#', '.', '.', '.', '.', '#', '.', '.', '#', '.', '#', '.', '.', '#', '.']\n",
      "['#', '.', '.', '.', '.', '#', '.', '.', '.', '.', '.', '#', '#', '#', '.', '#', '.', '.', '.', '.', '#', '.', '.', '#', '.', '#', '.', '.', '.', '.', '.', '#', '#', '#', '.', '#', '.', '.', '#', '.']\n"
     ]
    }
   ],
   "source": [
    "for r in res:\n",
    "    print(r)"
   ]
  },
  {
   "cell_type": "code",
   "execution_count": null,
   "metadata": {},
   "outputs": [],
   "source": [
    "FPGPHFGH"
   ]
  },
  {
   "cell_type": "code",
   "execution_count": null,
   "metadata": {},
   "outputs": [
    {
     "data": {
      "text/plain": [
       "[[20, 21], [60, 21], [100, 17], [140, 21], [180, 21], [220, 3]]"
      ]
     },
     "metadata": {},
     "output_type": "display_data"
    }
   ],
   "source": [
    "sig = 1\n",
    "cyc = 0\n",
    "res = []\n",
    "for x in X:\n",
    "    if len(x) == 1:\n",
    "        cyc += 1\n",
    "        if cyc in [20,60,100,140,180,220]:\n",
    "            res.append([cyc,sig])\n",
    "    else:\n",
    "        if cyc+1 in [20,60,100,140,180,220]:\n",
    "            res.append([cyc+1, sig])\n",
    "        cyc += 2\n",
    "        if cyc in [20,60,100,140,180,220]:\n",
    "            res.append([cyc,sig])\n",
    "        sig += int(x[1])\n",
    "res\n"
   ]
  },
  {
   "cell_type": "code",
   "execution_count": 27,
   "metadata": {},
   "outputs": [
    {
     "data": {
      "text/plain": [
       "10760"
      ]
     },
     "execution_count": 27,
     "metadata": {},
     "output_type": "execute_result"
    }
   ],
   "source": [
    "sum([x1*x2 for x1,x2 in res])"
   ]
  },
  {
   "cell_type": "code",
   "execution_count": 8,
   "metadata": {},
   "outputs": [
    {
     "data": {
      "text/plain": [
       "5"
      ]
     },
     "execution_count": 8,
     "metadata": {},
     "output_type": "execute_result"
    }
   ],
   "source": [
    "cyc"
   ]
  },
  {
   "cell_type": "code",
   "execution_count": null,
   "metadata": {},
   "outputs": [],
   "source": []
  }
 ],
 "metadata": {
  "kernelspec": {
   "display_name": "py3",
   "language": "python",
   "name": "python3"
  },
  "language_info": {
   "codemirror_mode": {
    "name": "ipython",
    "version": 3
   },
   "file_extension": ".py",
   "mimetype": "text/x-python",
   "name": "python",
   "nbconvert_exporter": "python",
   "pygments_lexer": "ipython3",
   "version": "3.9.6"
  }
 },
 "nbformat": 4,
 "nbformat_minor": 2
}
